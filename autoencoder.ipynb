{
 "cells": [
  {
   "cell_type": "code",
   "execution_count": 1,
   "id": "ad523807-f09e-458d-b60c-890f1d97e19c",
   "metadata": {},
   "outputs": [],
   "source": [
    "import torch\n",
    "import matplotlib.pyplot as plt\n",
    "import numpy as np"
   ]
  },
  {
   "cell_type": "code",
   "execution_count": 2,
   "id": "c6b4a026-4f8c-4a36-a229-9bab77b88585",
   "metadata": {},
   "outputs": [],
   "source": [
    "from torch import nn\n",
    "from torchvision import datasets, transforms\n",
    "from torchvision.transforms import Compose, ToTensor, Normalize\n",
    "from torch.utils.data import Dataset, DataLoader\n",
    "from torch.autograd import Variable"
   ]
  },
  {
   "cell_type": "code",
   "execution_count": 3,
   "id": "7eff4881-51c5-410f-ad94-8d072bfcf6bc",
   "metadata": {},
   "outputs": [],
   "source": [
    "device = torch.device(\"cuda\" if torch.cuda.is_available() else \"cpu\")\n",
    "torch.set_default_device(\"cuda\")"
   ]
  },
  {
   "cell_type": "code",
   "execution_count": 4,
   "id": "7f4c2197-3372-4096-9603-73ee8a92c796",
   "metadata": {},
   "outputs": [],
   "source": [
    "class my_norm(object):\n",
    "    def __init__(self, val=255):\n",
    "        self.val = val\n",
    "\n",
    "    def __call__(self, tensor):\n",
    "        return tensor/val\n",
    "\n",
    "    def __repr__(self):\n",
    "        return self.__class__.__name__ + \"normalizing value = {0}\".format(self.val)\n",
    "    \n",
    "class AddGaussianNoise(object):\n",
    "    def __init__(self, mean=0., std=1.):\n",
    "        self.std = std\n",
    "        self.mean = mean\n",
    "        \n",
    "    def __call__(self, tensor):\n",
    "        return tensor + torch.randn(tensor.size()) * self.std + self.mean\n",
    "    \n",
    "    def __repr__(self):\n",
    "        return self.__class__.__name__ + '(mean={0}, std={1})'.format(self.mean, self.std)"
   ]
  },
  {
   "cell_type": "code",
   "execution_count": 5,
   "id": "af6995ce-59fd-4440-a5a3-68ac6943207d",
   "metadata": {},
   "outputs": [],
   "source": [
    "class FeatureCopy(Dataset):\n",
    "    def __init__(self, dataset):\n",
    "        self.dataset = dataset\n",
    "\n",
    "    def __len__(self):\n",
    "        return len(self.dataset)\n",
    "        \n",
    "    def __getitem__(self, idx):\n",
    "        image, label = self.dataset[idx]\n",
    "        return image, image"
   ]
  },
  {
   "cell_type": "code",
   "execution_count": 6,
   "id": "bd60e8e7-72a6-475b-a782-3871675fe30c",
   "metadata": {},
   "outputs": [],
   "source": [
    "#custom transformation\n",
    "\n",
    "transform=Compose([\n",
    "    transforms.ToTensor(),\n",
    "    transforms.Normalize((0.1307,), (0.3081,)),\n",
    "    AddGaussianNoise(0., .5)\n",
    "])"
   ]
  },
  {
   "cell_type": "code",
   "execution_count": 7,
   "id": "4f26614a-20b7-4819-98ad-5f95ddbc3a76",
   "metadata": {},
   "outputs": [],
   "source": [
    "batch_size = 128\n",
    "\n",
    "train_data = datasets.MNIST(\n",
    "    root = 'data',\n",
    "    train = True,                         \n",
    "    transform = ToTensor(), \n",
    "    download = True,  \n",
    ")\n",
    "test_data = datasets.MNIST(\n",
    "    root = 'data', \n",
    "    train = False, \n",
    "    transform = ToTensor(),\n",
    ")"
   ]
  },
  {
   "cell_type": "code",
   "execution_count": 8,
   "id": "06f9c339-6a1a-4af3-b0d5-63fbc8d51e7e",
   "metadata": {},
   "outputs": [],
   "source": [
    "#Data for de-noising\n",
    "\n",
    "train_data = FeatureCopy(train_data)\n",
    "test_data = FeatureCopy(test_data)"
   ]
  },
  {
   "cell_type": "code",
   "execution_count": 9,
   "id": "783e294f-6370-4e44-953f-baff448ba658",
   "metadata": {},
   "outputs": [],
   "source": [
    "train_dataloader = DataLoader(train_data, batch_size=batch_size, shuffle=True, generator=torch.Generator(\"cuda\"))\n",
    "test_dataloader = DataLoader(test_data, batch_size=batch_size, shuffle=True, generator=torch.Generator(\"cuda\"))"
   ]
  },
  {
   "cell_type": "code",
   "execution_count": 10,
   "id": "4798dc6d-f582-4beb-8cb1-9cb5e8e68f97",
   "metadata": {},
   "outputs": [],
   "source": [
    "# class Reshape(nn.Module):\n",
    "#     def __init__(self, shape):\n",
    "#         super(Reshape, self).__init__()\n",
    "#         self.shape = shape\n",
    "#     def forward(self, x):\n",
    "#         return x.view(self.shape)"
   ]
  },
  {
   "cell_type": "code",
   "execution_count": 11,
   "id": "0c64ff57-3ab7-4e09-8df2-761a1e50b215",
   "metadata": {},
   "outputs": [],
   "source": [
    "class AutoEncoder(nn.Module):\n",
    "    def __init__(self, shape=None):\n",
    "        super(AutoEncoder, self).__init__()\n",
    "        self.shape = shape\n",
    "        self.encoder = nn.Sequential(\n",
    "            # nn.Conv2d(in_channels=1, out_channels=16, kernel_size=5, stride=1, padding=2),\n",
    "            # nn.ReLU(),\n",
    "            # nn.MaxPool2d(kernel_size=2),\n",
    "            # nn.Conv2d(in_channels=16, out_channels=32, kernel_size=5, stride=1, padding=2),\n",
    "            # nn.ReLU(),\n",
    "            # nn.MaxPool2d(kernel_size=2),\n",
    "            nn.Flatten(),\n",
    "            nn.Linear(784, 256),\n",
    "            nn.ReLU(),\n",
    "            nn.Linear(256, 10),\n",
    "            nn.Sigmoid(),\n",
    "        )\n",
    "        self.decoder = nn.Sequential(\n",
    "            nn.Linear(10, 256),\n",
    "            nn.ReLU(),\n",
    "            nn.Linear(256, 784),\n",
    "            #Reshape(shape)\n",
    "        )\n",
    "\n",
    "    def forward(self, x):\n",
    "        out = self.encoder(x)\n",
    "        out = self.decoder(out)\n",
    "        return out\n"
   ]
  },
  {
   "cell_type": "code",
   "execution_count": 12,
   "id": "ccf0f351-f065-4c3f-8678-3bd742b9dd0d",
   "metadata": {},
   "outputs": [],
   "source": [
    "autoencoder = AutoEncoder()"
   ]
  },
  {
   "cell_type": "code",
   "execution_count": 13,
   "id": "bda4070b-a2ab-490e-a2a3-f8ef08a92c38",
   "metadata": {},
   "outputs": [],
   "source": [
    "shape = (64, 1, 28, 28)"
   ]
  },
  {
   "cell_type": "code",
   "execution_count": 14,
   "id": "338af6d2-d2bd-499d-8afd-0153404165da",
   "metadata": {},
   "outputs": [],
   "source": [
    "from torch import optim\n",
    "\n",
    "loss_func = nn.MSELoss(reduction=\"mean\")\n",
    "optimizer = optim.Adam(autoencoder.parameters(), lr = 1e-3)"
   ]
  },
  {
   "cell_type": "code",
   "execution_count": 15,
   "id": "e59faeba-6c99-443b-9f1a-ff07dc56b25c",
   "metadata": {},
   "outputs": [],
   "source": [
    "def train(num_epochs, model, loader):\n",
    "    model.train()\n",
    "    total_step = len(loader)\n",
    "    \n",
    "    for epoch in range(num_epochs):\n",
    "        with torch.set_grad_enabled(True):\n",
    "            for i, (images, labels) in enumerate(loader):\n",
    "    \n",
    "                x = Variable(images).to(device)   \n",
    "                y = Variable(labels).to(device)\n",
    "                \n",
    "                output = model(x)             \n",
    "                output = output.view(y.size())\n",
    "                loss = loss_func(output, y)\n",
    "                \n",
    "                optimizer.zero_grad()           \n",
    "                loss.backward()         \n",
    "                optimizer.step()                \n",
    "                \n",
    "                if (i+1) % 100 == 0:\n",
    "                    print ('Epoch [{}/{}], Step [{}/{}], Loss: {:.4f}' \n",
    "                           .format(epoch + 1, num_epochs, i + 1, total_step, loss.item()))\n"
   ]
  },
  {
   "cell_type": "code",
   "execution_count": 16,
   "id": "8dcf03d5-0df4-4823-98ec-f3191ff990a2",
   "metadata": {
    "scrolled": true
   },
   "outputs": [
    {
     "name": "stdout",
     "output_type": "stream",
     "text": [
      "Epoch [1/10], Step [100/469], Loss: 0.0449\n",
      "Epoch [1/10], Step [200/469], Loss: 0.0342\n",
      "Epoch [1/10], Step [300/469], Loss: 0.0307\n",
      "Epoch [1/10], Step [400/469], Loss: 0.0318\n",
      "Epoch [2/10], Step [100/469], Loss: 0.0306\n",
      "Epoch [2/10], Step [200/469], Loss: 0.0274\n",
      "Epoch [2/10], Step [300/469], Loss: 0.0255\n",
      "Epoch [2/10], Step [400/469], Loss: 0.0257\n",
      "Epoch [3/10], Step [100/469], Loss: 0.0266\n",
      "Epoch [3/10], Step [200/469], Loss: 0.0264\n",
      "Epoch [3/10], Step [300/469], Loss: 0.0254\n",
      "Epoch [3/10], Step [400/469], Loss: 0.0250\n",
      "Epoch [4/10], Step [100/469], Loss: 0.0247\n",
      "Epoch [4/10], Step [200/469], Loss: 0.0245\n",
      "Epoch [4/10], Step [300/469], Loss: 0.0241\n",
      "Epoch [4/10], Step [400/469], Loss: 0.0234\n",
      "Epoch [5/10], Step [100/469], Loss: 0.0246\n",
      "Epoch [5/10], Step [200/469], Loss: 0.0237\n",
      "Epoch [5/10], Step [300/469], Loss: 0.0243\n",
      "Epoch [5/10], Step [400/469], Loss: 0.0243\n",
      "Epoch [6/10], Step [100/469], Loss: 0.0226\n",
      "Epoch [6/10], Step [200/469], Loss: 0.0235\n",
      "Epoch [6/10], Step [300/469], Loss: 0.0235\n",
      "Epoch [6/10], Step [400/469], Loss: 0.0239\n",
      "Epoch [7/10], Step [100/469], Loss: 0.0235\n",
      "Epoch [7/10], Step [200/469], Loss: 0.0234\n",
      "Epoch [7/10], Step [300/469], Loss: 0.0226\n",
      "Epoch [7/10], Step [400/469], Loss: 0.0225\n",
      "Epoch [8/10], Step [100/469], Loss: 0.0231\n",
      "Epoch [8/10], Step [200/469], Loss: 0.0229\n",
      "Epoch [8/10], Step [300/469], Loss: 0.0228\n",
      "Epoch [8/10], Step [400/469], Loss: 0.0226\n",
      "Epoch [9/10], Step [100/469], Loss: 0.0227\n",
      "Epoch [9/10], Step [200/469], Loss: 0.0205\n",
      "Epoch [9/10], Step [300/469], Loss: 0.0205\n",
      "Epoch [9/10], Step [400/469], Loss: 0.0227\n",
      "Epoch [10/10], Step [100/469], Loss: 0.0222\n",
      "Epoch [10/10], Step [200/469], Loss: 0.0218\n",
      "Epoch [10/10], Step [300/469], Loss: 0.0213\n",
      "Epoch [10/10], Step [400/469], Loss: 0.0210\n"
     ]
    }
   ],
   "source": [
    "train(num_epochs=10, model=autoencoder, loader=train_dataloader)"
   ]
  },
  {
   "cell_type": "code",
   "execution_count": 17,
   "id": "3324f34d-a6dc-4866-b4be-28fb87edc420",
   "metadata": {},
   "outputs": [],
   "source": [
    "images, labels = next(iter(test_dataloader))\n",
    "images, labels = images.to(device), labels.to(device)\n",
    "real = labels[:10]"
   ]
  },
  {
   "cell_type": "code",
   "execution_count": 18,
   "id": "3556e129-e1e8-422f-9abf-84e6e76e84fc",
   "metadata": {},
   "outputs": [
    {
     "data": {
      "image/png": "[encoded data removed]",
      "text/plain": [
       "<Figure size 640x480 with 1 Axes>"
      ]
     },
     "metadata": {},
     "output_type": "display_data"
    }
   ],
   "source": [
    "sample = (real[0].squeeze()).cpu().numpy()\n",
    "plt.imshow(sample, cmap=\"gray\")\n",
    "plt.show()"
   ]
  },
  {
   "cell_type": "code",
   "execution_count": 19,
   "id": "6b097e9d-ce04-4fe6-a08c-4a44d2c151e5",
   "metadata": {},
   "outputs": [],
   "source": [
    "autoencoder.eval()\n",
    "\n",
    "pred = autoencoder(images[:10].to(device))\n",
    "pred = pred.view(real.size())\n",
    "sample_pred = pred[0].detach().cpu().numpy().squeeze()"
   ]
  },
  {
   "cell_type": "code",
   "execution_count": 20,
   "id": "8a63095f-197c-475b-a479-239d5b6aab72",
   "metadata": {},
   "outputs": [
    {
     "data": {
      "image/png": "[encoded data removed]",
      "text/plain": [
       "<Figure size 640x480 with 1 Axes>"
      ]
     },
     "metadata": {},
     "output_type": "display_data"
    }
   ],
   "source": [
    "plt.imshow(sample_pred, cmap=\"gray\")\n",
    "plt.show()"
   ]
  },
  {
   "cell_type": "code",
   "execution_count": 21,
   "id": "14c2d82b-6dd4-4fe0-a41d-3e9aae41f3bb",
   "metadata": {},
   "outputs": [],
   "source": [
    "class DecoderOnly(nn.Module):\n",
    "    def __init__(self, autoencoder):\n",
    "        super(DecoderOnly, self).__init__()\n",
    "        self.decoder = autoencoder.decoder\n",
    "\n",
    "    def forward(self, x):\n",
    "        out = self.decoder(x)\n",
    "        return out\n",
    "        \n",
    "decoder = DecoderOnly(autoencoder)"
   ]
  },
  {
   "cell_type": "code",
   "execution_count": 22,
   "id": "2d8fdaac-3975-4ac2-901d-962c71902cf6",
   "metadata": {},
   "outputs": [],
   "source": [
    "class EncoderOnly(nn.Module):\n",
    "    def __init__(self, autoencoder):\n",
    "        super(EncoderOnly, self).__init__()\n",
    "        self.encoder = autoencoder.encoder\n",
    "\n",
    "    def forward(self, x):\n",
    "        out = self.encoder(x)\n",
    "        return out\n",
    "\n",
    "encoder = EncoderOnly(autoencoder)"
   ]
  },
  {
   "cell_type": "code",
   "execution_count": 23,
   "id": "22e86cd6-ac94-4591-a757-c06faf4c83ec",
   "metadata": {},
   "outputs": [
    {
     "data": {
      "text/plain": [
       "tensor([[0.7529, 0.5484, 0.2764, 0.9285, 0.6829, 0.1889, 0.5029, 0.0659, 0.2806,\n",
       "         0.2716]], device='cuda:0', grad_fn=<SigmoidBackward0>)"
      ]
     },
     "execution_count": 23,
     "metadata": {},
     "output_type": "execute_result"
    }
   ],
   "source": [
    "encoder(images[0])"
   ]
  },
  {
   "cell_type": "code",
   "execution_count": 24,
   "id": "7a1ce86b-4bd9-43d9-afdd-dcdca2d829dd",
   "metadata": {},
   "outputs": [],
   "source": [
    "for param in decoder.parameters():\n",
    "    param.data = param.data.double()\n",
    "decoder = decoder.double()"
   ]
  },
  {
   "cell_type": "code",
   "execution_count": 29,
   "id": "b1d36822-45d9-4716-99f4-1df19e41e292",
   "metadata": {},
   "outputs": [],
   "source": [
    "test_inp = torch.tensor([0.7529, 0.5484, 0.2764, 0.9285, 0.6829, 0.1889, 0.5029, 0.0659, 0.2806, 0.2716], dtype=torch.float64, device=device)"
   ]
  },
  {
   "cell_type": "code",
   "execution_count": 30,
   "id": "3987ad1e-731e-4a7a-9dbe-bcbb84b1f380",
   "metadata": {},
   "outputs": [],
   "source": [
    "test_out = decoder(test_inp)"
   ]
  },
  {
   "cell_type": "code",
   "execution_count": 31,
   "id": "15f74d24-f803-48d4-bb5d-80c5a1b429bb",
   "metadata": {},
   "outputs": [],
   "source": [
    "test_out = test_out.view(1, 28, 28)\n",
    "out_img = test_out[0].detach().cpu().numpy().squeeze()"
   ]
  },
  {
   "cell_type": "code",
   "execution_count": 32,
   "id": "534b3832-e989-4f18-904a-558905d77b60",
   "metadata": {},
   "outputs": [
    {
     "data": {
      "image/png": "[encoded data removed]",
      "text/plain": [
       "<Figure size 640x480 with 1 Axes>"
      ]
     },
     "metadata": {},
     "output_type": "display_data"
    }
   ],
   "source": [
    "plt.imshow(out_img, cmap=\"gray\")\n",
    "plt.show()"
   ]
  }
 ],
 "metadata": {
  "kernelspec": {
   "display_name": "Python 3 (ipykernel)",
   "language": "python",
   "name": "python3"
  },
  "language_info": {
   "codemirror_mode": {
    "name": "ipython",
    "version": 3
   },
   "file_extension": ".py",
   "mimetype": "text/x-python",
   "name": "python",
   "nbconvert_exporter": "python",
   "pygments_lexer": "ipython3",
   "version": "3.10.8"
  }
 },
 "nbformat": 4,
 "nbformat_minor": 5
}
